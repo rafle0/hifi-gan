{
 "cells": [
  {
   "cell_type": "code",
   "execution_count": 3,
   "id": "a2723576-815c-4639-8a90-1418f81ccebb",
   "metadata": {},
   "outputs": [],
   "source": [
    "import os\n",
    "import json\n",
    "import torch\n",
    "from librosa import load\n",
    "from env import AttrDict\n",
    "from meldataset import mel_spectrogram\n",
    "from models import Generator, MultiPeriodDiscriminator, MultiScaleDiscriminator"
   ]
  },
  {
   "cell_type": "code",
   "execution_count": 4,
   "id": "249f7252-909f-46f9-94c7-f5d11f520a3e",
   "metadata": {},
   "outputs": [],
   "source": [
    "config_file = os.path.join('config_v3.json')\n",
    "with open(config_file) as f:\n",
    "    data = f.read()\n",
    "json_config = json.loads(data)\n",
    "h = AttrDict(json_config)\n",
    "device = torch.device('cuda')"
   ]
  },
  {
   "cell_type": "code",
   "execution_count": 5,
   "id": "c432763c-9c8e-47ea-858d-38a216f23ac8",
   "metadata": {},
   "outputs": [],
   "source": [
    "generator = Generator(h).to(device)\n",
    "MPD = MultiPeriodDiscriminator().to(device)\n",
    "MSD = MultiScaleDiscriminator().to(device)"
   ]
  },
  {
   "cell_type": "code",
   "execution_count": 6,
   "id": "e27b3ac9-f312-46cf-bfc2-0f7629544926",
   "metadata": {},
   "outputs": [
    {
     "name": "stdout",
     "output_type": "stream",
     "text": [
      "torch.Size([93184]) 22050\n"
     ]
    }
   ],
   "source": [
    "wavfile = 'test_files/4_5600.wav'\n",
    "wav, sr = load(wavfile)\n",
    "wav = torch.FloatTensor(wav).to(device)\n",
    "print(wav.shape, sr)"
   ]
  },
  {
   "cell_type": "code",
   "execution_count": 12,
   "id": "4a73f53b-4356-40fc-8a87-2b0860599667",
   "metadata": {},
   "outputs": [
    {
     "name": "stdout",
     "output_type": "stream",
     "text": [
      "torch.Size([1, 80, 364])\n"
     ]
    }
   ],
   "source": [
    "def get_mel(x):\n",
    "    return mel_spectrogram(x, h.n_fft, h.num_mels, h.sampling_rate, h.hop_size, h.win_size, h.fmin, h.fmax)\n",
    "\n",
    "x = get_mel(wav.unsqueeze(0))\n",
    "print(x.shape)"
   ]
  },
  {
   "cell_type": "code",
   "execution_count": 11,
   "id": "0d29255e-1d74-445c-a175-90f7cbce316c",
   "metadata": {},
   "outputs": [
    {
     "name": "stdout",
     "output_type": "stream",
     "text": [
      "torch.Size([1, 80, 364])\n",
      "torch.Size([1, 256, 364])\n",
      "torch.Size([1, 128, 2912])\n",
      "torch.Size([1, 64, 23296])\n",
      "torch.Size([1, 32, 93184])\n",
      "torch.Size([1, 1, 93184])\n"
     ]
    }
   ],
   "source": [
    "y_g_hat = generator(x)"
   ]
  },
  {
   "cell_type": "code",
   "execution_count": 9,
   "id": "805fa4b2-924c-4a44-8aab-7e2d1e74dc4b",
   "metadata": {},
   "outputs": [
    {
     "name": "stdout",
     "output_type": "stream",
     "text": [
      "torch.Size([1, 1, 93184])\n",
      "torch.Size([1, 1, 46592, 2])\n",
      "torch.Size([1, 32, 15531, 2])\n",
      "torch.Size([1, 128, 5177, 2])\n",
      "torch.Size([1, 512, 1726, 2])\n",
      "torch.Size([1, 1024, 576, 2])\n",
      "torch.Size([1, 1024, 576, 2])\n",
      "torch.Size([1, 1152])\n",
      "torch.Size([1, 1, 93184])\n",
      "torch.Size([1, 1, 46592, 2])\n",
      "torch.Size([1, 32, 15531, 2])\n",
      "torch.Size([1, 128, 5177, 2])\n",
      "torch.Size([1, 512, 1726, 2])\n",
      "torch.Size([1, 1024, 576, 2])\n",
      "torch.Size([1, 1024, 576, 2])\n",
      "torch.Size([1, 1152])\n",
      "torch.Size([1, 1, 93184])\n",
      "torch.Size([1, 1, 31062, 3])\n",
      "torch.Size([1, 32, 10354, 3])\n",
      "torch.Size([1, 128, 3452, 3])\n",
      "torch.Size([1, 512, 1151, 3])\n",
      "torch.Size([1, 1024, 384, 3])\n",
      "torch.Size([1, 1024, 384, 3])\n",
      "torch.Size([1, 1152])\n",
      "torch.Size([1, 1, 93184])\n",
      "torch.Size([1, 1, 31062, 3])\n",
      "torch.Size([1, 32, 10354, 3])\n",
      "torch.Size([1, 128, 3452, 3])\n",
      "torch.Size([1, 512, 1151, 3])\n",
      "torch.Size([1, 1024, 384, 3])\n",
      "torch.Size([1, 1024, 384, 3])\n",
      "torch.Size([1, 1152])\n",
      "torch.Size([1, 1, 93184])\n",
      "torch.Size([1, 1, 18637, 5])\n",
      "torch.Size([1, 32, 6213, 5])\n",
      "torch.Size([1, 128, 2071, 5])\n",
      "torch.Size([1, 512, 691, 5])\n",
      "torch.Size([1, 1024, 231, 5])\n",
      "torch.Size([1, 1024, 231, 5])\n",
      "torch.Size([1, 1155])\n",
      "torch.Size([1, 1, 93184])\n",
      "torch.Size([1, 1, 18637, 5])\n",
      "torch.Size([1, 32, 6213, 5])\n",
      "torch.Size([1, 128, 2071, 5])\n",
      "torch.Size([1, 512, 691, 5])\n",
      "torch.Size([1, 1024, 231, 5])\n",
      "torch.Size([1, 1024, 231, 5])\n",
      "torch.Size([1, 1155])\n",
      "torch.Size([1, 1, 93184])\n",
      "torch.Size([1, 1, 13312, 7])\n",
      "torch.Size([1, 32, 4438, 7])\n",
      "torch.Size([1, 128, 1480, 7])\n",
      "torch.Size([1, 512, 494, 7])\n",
      "torch.Size([1, 1024, 165, 7])\n",
      "torch.Size([1, 1024, 165, 7])\n",
      "torch.Size([1, 1155])\n",
      "torch.Size([1, 1, 93184])\n",
      "torch.Size([1, 1, 13312, 7])\n",
      "torch.Size([1, 32, 4438, 7])\n",
      "torch.Size([1, 128, 1480, 7])\n",
      "torch.Size([1, 512, 494, 7])\n",
      "torch.Size([1, 1024, 165, 7])\n",
      "torch.Size([1, 1024, 165, 7])\n",
      "torch.Size([1, 1155])\n",
      "torch.Size([1, 1, 93184])\n",
      "torch.Size([1, 1, 8472, 11])\n",
      "torch.Size([1, 32, 2824, 11])\n",
      "torch.Size([1, 128, 942, 11])\n",
      "torch.Size([1, 512, 314, 11])\n",
      "torch.Size([1, 1024, 105, 11])\n",
      "torch.Size([1, 1024, 105, 11])\n",
      "torch.Size([1, 1155])\n",
      "torch.Size([1, 1, 93184])\n",
      "torch.Size([1, 1, 8472, 11])\n",
      "torch.Size([1, 32, 2824, 11])\n",
      "torch.Size([1, 128, 942, 11])\n",
      "torch.Size([1, 512, 314, 11])\n",
      "torch.Size([1, 1024, 105, 11])\n",
      "torch.Size([1, 1024, 105, 11])\n",
      "torch.Size([1, 1155])\n"
     ]
    }
   ],
   "source": [
    "nwav = wav.reshape(1, 1, -1)\n",
    "y_d_rs, y_d_gs, fmap_rs, fmap_gs = MPD(nwav, y_g_hat)"
   ]
  },
  {
   "cell_type": "code",
   "execution_count": 10,
   "id": "576ed8c5-1e79-4a7f-8acf-7d4ef8d0206f",
   "metadata": {},
   "outputs": [
    {
     "name": "stdout",
     "output_type": "stream",
     "text": [
      "torch.Size([1, 1, 93184])\n",
      "torch.Size([1, 128, 93184])\n",
      "torch.Size([1, 128, 46592])\n",
      "torch.Size([1, 256, 23296])\n",
      "torch.Size([1, 512, 5824])\n",
      "torch.Size([1, 1024, 1456])\n",
      "torch.Size([1, 1024, 1456])\n",
      "torch.Size([1, 1024, 1456])\n",
      "torch.Size([1, 1456])\n",
      "torch.Size([1, 1, 93184])\n",
      "torch.Size([1, 128, 93184])\n",
      "torch.Size([1, 128, 46592])\n",
      "torch.Size([1, 256, 23296])\n",
      "torch.Size([1, 512, 5824])\n",
      "torch.Size([1, 1024, 1456])\n",
      "torch.Size([1, 1024, 1456])\n",
      "torch.Size([1, 1024, 1456])\n",
      "torch.Size([1, 1456])\n",
      "torch.Size([1, 1, 46593])\n",
      "torch.Size([1, 128, 46593])\n",
      "torch.Size([1, 128, 23297])\n",
      "torch.Size([1, 256, 11649])\n",
      "torch.Size([1, 512, 2913])\n",
      "torch.Size([1, 1024, 729])\n",
      "torch.Size([1, 1024, 729])\n",
      "torch.Size([1, 1024, 729])\n",
      "torch.Size([1, 729])\n",
      "torch.Size([1, 1, 46593])\n",
      "torch.Size([1, 128, 46593])\n",
      "torch.Size([1, 128, 23297])\n",
      "torch.Size([1, 256, 11649])\n",
      "torch.Size([1, 512, 2913])\n",
      "torch.Size([1, 1024, 729])\n",
      "torch.Size([1, 1024, 729])\n",
      "torch.Size([1, 1024, 729])\n",
      "torch.Size([1, 729])\n",
      "torch.Size([1, 1, 23297])\n",
      "torch.Size([1, 128, 23297])\n",
      "torch.Size([1, 128, 11649])\n",
      "torch.Size([1, 256, 5825])\n",
      "torch.Size([1, 512, 1457])\n",
      "torch.Size([1, 1024, 365])\n",
      "torch.Size([1, 1024, 365])\n",
      "torch.Size([1, 1024, 365])\n",
      "torch.Size([1, 365])\n",
      "torch.Size([1, 1, 23297])\n",
      "torch.Size([1, 128, 23297])\n",
      "torch.Size([1, 128, 11649])\n",
      "torch.Size([1, 256, 5825])\n",
      "torch.Size([1, 512, 1457])\n",
      "torch.Size([1, 1024, 365])\n",
      "torch.Size([1, 1024, 365])\n",
      "torch.Size([1, 1024, 365])\n",
      "torch.Size([1, 365])\n"
     ]
    }
   ],
   "source": [
    "y_d_rs, y_d_gs, fmap_rs, fmap_gs = MSD(nwav, y_g_hat)"
   ]
  }
 ],
 "metadata": {
  "kernelspec": {
   "display_name": "Python 3",
   "language": "python",
   "name": "python3"
  },
  "language_info": {
   "codemirror_mode": {
    "name": "ipython",
    "version": 3
   },
   "file_extension": ".py",
   "mimetype": "text/x-python",
   "name": "python",
   "nbconvert_exporter": "python",
   "pygments_lexer": "ipython3",
   "version": "3.8.10"
  }
 },
 "nbformat": 4,
 "nbformat_minor": 5
}